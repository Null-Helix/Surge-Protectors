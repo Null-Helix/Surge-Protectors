{
 "cells": [
  {
   "cell_type": "code",
   "execution_count": 1,
   "id": "9875a16e-a067-43ae-a81f-c1f84795debc",
   "metadata": {},
   "outputs": [
    {
     "name": "stderr",
     "output_type": "stream",
     "text": [
      "/tmp/ipykernel_402146/1174568883.py:3: DeprecationWarning: \n",
      "Pyarrow will become a required dependency of pandas in the next major release of pandas (pandas 3.0),\n",
      "(to allow more performant data types, such as the Arrow string type, and better interoperability with other libraries)\n",
      "but was not found to be installed on your system.\n",
      "If this would cause problems for you,\n",
      "please provide us feedback at https://github.com/pandas-dev/pandas/issues/54466\n",
      "        \n",
      "  import pandas as pd\n"
     ]
    }
   ],
   "source": [
    "import csv\n",
    "import json\n",
    "import pandas as pd\n",
    "import numpy as np\n",
    "from io import StringIO\n",
    "import matplotlib.pyplot as plt\n",
    "\n"
   ]
  },
  {
   "cell_type": "code",
   "execution_count": 2,
   "id": "961f5d8a-f2b1-41c2-a672-c97b6f459ba7",
   "metadata": {},
   "outputs": [],
   "source": [
    "\n",
    "\n",
    "df = pd.read_excel(\"2022.xlsx\")\n",
    "\n",
    "#print(df)"
   ]
  },
  {
   "cell_type": "code",
   "execution_count": 3,
   "id": "1b57c529-b3b4-4d91-b3dd-adf77f80fbb6",
   "metadata": {},
   "outputs": [
    {
     "data": {
      "text/html": [
       "<div>\n",
       "<style scoped>\n",
       "    .dataframe tbody tr th:only-of-type {\n",
       "        vertical-align: middle;\n",
       "    }\n",
       "\n",
       "    .dataframe tbody tr th {\n",
       "        vertical-align: top;\n",
       "    }\n",
       "\n",
       "    .dataframe thead th {\n",
       "        text-align: right;\n",
       "    }\n",
       "</style>\n",
       "<table border=\"1\" class=\"dataframe\">\n",
       "  <thead>\n",
       "    <tr style=\"text-align: right;\">\n",
       "      <th></th>\n",
       "      <th>eventCategory</th>\n",
       "      <th>description</th>\n",
       "    </tr>\n",
       "    <tr>\n",
       "      <th>sourceUUID</th>\n",
       "      <th></th>\n",
       "      <th></th>\n",
       "    </tr>\n",
       "  </thead>\n",
       "  <tbody>\n",
       "    <tr>\n",
       "      <th>062467ce-b90d-4f64-8aac-6588a448ba34</th>\n",
       "      <td>General</td>\n",
       "      <td>Connection established: Socket[addr=/127.0.0.1...</td>\n",
       "    </tr>\n",
       "    <tr>\n",
       "      <th>f78db54c-f95e-4dcd-8369-a3d00f235886</th>\n",
       "      <td>PerfData</td>\n",
       "      <td>{\"PerfData\": [{\"P.CPU.USR\": 2.6, \"resource\": \"...</td>\n",
       "    </tr>\n",
       "    <tr>\n",
       "      <th>13d4f733-800c-487e-ac4c-3827d8a6109c</th>\n",
       "      <td>General</td>\n",
       "      <td>Received UMF Message : f78db54c-f95e-4dcd-8369...</td>\n",
       "    </tr>\n",
       "    <tr>\n",
       "      <th>82866ad5-6854-4896-8328-1772714c61e9</th>\n",
       "      <td>General</td>\n",
       "      <td>Alarm received with [type: technical, techAlar...</td>\n",
       "    </tr>\n",
       "    <tr>\n",
       "      <th>82866ad5-6854-4896-8328-1772714c61e9</th>\n",
       "      <td>General</td>\n",
       "      <td>Alarm banner displays [type: technical, techAl...</td>\n",
       "    </tr>\n",
       "    <tr>\n",
       "      <th>...</th>\n",
       "      <td>...</td>\n",
       "      <td>...</td>\n",
       "    </tr>\n",
       "    <tr>\n",
       "      <th>062467ce-b90d-4f64-8aac-6588a448ba34</th>\n",
       "      <td>General</td>\n",
       "      <td>Connection established: Socket[addr=/127.0.0.1...</td>\n",
       "    </tr>\n",
       "    <tr>\n",
       "      <th>e215c277-19b3-4f14-9182-931e8bbcbb0e</th>\n",
       "      <td>PerfData</td>\n",
       "      <td>{\"PerfData\": [{\"B.STATE.CHRG\": 100, \"resource\"...</td>\n",
       "    </tr>\n",
       "    <tr>\n",
       "      <th>e215c277-19b3-4f14-9182-931e8bbcbb0e</th>\n",
       "      <td>PerfData</td>\n",
       "      <td>{\"PerfData\": [{\"N.IO.PRCV.T\": 192343, \"resourc...</td>\n",
       "    </tr>\n",
       "    <tr>\n",
       "      <th>e215c277-19b3-4f14-9182-931e8bbcbb0e</th>\n",
       "      <td>PerfData</td>\n",
       "      <td>{\"PerfData\": [{\"S.VMEM.PAGF\": 174307, \"timesta...</td>\n",
       "    </tr>\n",
       "    <tr>\n",
       "      <th>e215c277-19b3-4f14-9182-931e8bbcbb0e</th>\n",
       "      <td>PerfData</td>\n",
       "      <td>{\"PerfData\": [{\"S.PROC.R\": 0, \"timestamp\": \"20...</td>\n",
       "    </tr>\n",
       "  </tbody>\n",
       "</table>\n",
       "<p>9140 rows × 2 columns</p>\n",
       "</div>"
      ],
      "text/plain": [
       "                                     eventCategory  \\\n",
       "sourceUUID                                           \n",
       "062467ce-b90d-4f64-8aac-6588a448ba34       General   \n",
       "f78db54c-f95e-4dcd-8369-a3d00f235886      PerfData   \n",
       "13d4f733-800c-487e-ac4c-3827d8a6109c       General   \n",
       "82866ad5-6854-4896-8328-1772714c61e9       General   \n",
       "82866ad5-6854-4896-8328-1772714c61e9       General   \n",
       "...                                            ...   \n",
       "062467ce-b90d-4f64-8aac-6588a448ba34       General   \n",
       "e215c277-19b3-4f14-9182-931e8bbcbb0e      PerfData   \n",
       "e215c277-19b3-4f14-9182-931e8bbcbb0e      PerfData   \n",
       "e215c277-19b3-4f14-9182-931e8bbcbb0e      PerfData   \n",
       "e215c277-19b3-4f14-9182-931e8bbcbb0e      PerfData   \n",
       "\n",
       "                                                                            description  \n",
       "sourceUUID                                                                               \n",
       "062467ce-b90d-4f64-8aac-6588a448ba34  Connection established: Socket[addr=/127.0.0.1...  \n",
       "f78db54c-f95e-4dcd-8369-a3d00f235886  {\"PerfData\": [{\"P.CPU.USR\": 2.6, \"resource\": \"...  \n",
       "13d4f733-800c-487e-ac4c-3827d8a6109c  Received UMF Message : f78db54c-f95e-4dcd-8369...  \n",
       "82866ad5-6854-4896-8328-1772714c61e9  Alarm received with [type: technical, techAlar...  \n",
       "82866ad5-6854-4896-8328-1772714c61e9  Alarm banner displays [type: technical, techAl...  \n",
       "...                                                                                 ...  \n",
       "062467ce-b90d-4f64-8aac-6588a448ba34  Connection established: Socket[addr=/127.0.0.1...  \n",
       "e215c277-19b3-4f14-9182-931e8bbcbb0e  {\"PerfData\": [{\"B.STATE.CHRG\": 100, \"resource\"...  \n",
       "e215c277-19b3-4f14-9182-931e8bbcbb0e  {\"PerfData\": [{\"N.IO.PRCV.T\": 192343, \"resourc...  \n",
       "e215c277-19b3-4f14-9182-931e8bbcbb0e  {\"PerfData\": [{\"S.VMEM.PAGF\": 174307, \"timesta...  \n",
       "e215c277-19b3-4f14-9182-931e8bbcbb0e  {\"PerfData\": [{\"S.PROC.R\": 0, \"timestamp\": \"20...  \n",
       "\n",
       "[9140 rows x 2 columns]"
      ]
     },
     "execution_count": 3,
     "metadata": {},
     "output_type": "execute_result"
    }
   ],
   "source": [
    "selected_df = df[['sourceUUID', 'eventCategory','description']].set_index('sourceUUID')\n",
    "selected_df"
   ]
  },
  {
   "cell_type": "code",
   "execution_count": 4,
   "id": "e7841951-a34d-4910-a18d-48afb14c6425",
   "metadata": {},
   "outputs": [
    {
     "data": {
      "text/html": [
       "<div>\n",
       "<style scoped>\n",
       "    .dataframe tbody tr th:only-of-type {\n",
       "        vertical-align: middle;\n",
       "    }\n",
       "\n",
       "    .dataframe tbody tr th {\n",
       "        vertical-align: top;\n",
       "    }\n",
       "\n",
       "    .dataframe thead th {\n",
       "        text-align: right;\n",
       "    }\n",
       "</style>\n",
       "<table border=\"1\" class=\"dataframe\">\n",
       "  <thead>\n",
       "    <tr style=\"text-align: right;\">\n",
       "      <th></th>\n",
       "      <th>eventCategory</th>\n",
       "      <th>description</th>\n",
       "    </tr>\n",
       "    <tr>\n",
       "      <th>sourceUUID</th>\n",
       "      <th></th>\n",
       "      <th></th>\n",
       "    </tr>\n",
       "  </thead>\n",
       "  <tbody>\n",
       "    <tr>\n",
       "      <th>f78db54c-f95e-4dcd-8369-a3d00f235886</th>\n",
       "      <td>PerfData</td>\n",
       "      <td>{\"PerfData\": [{\"P.CPU.USR\": 2.6, \"resource\": \"...</td>\n",
       "    </tr>\n",
       "    <tr>\n",
       "      <th>82866ad5-6854-4896-8328-1772714c61e9</th>\n",
       "      <td>PerfData</td>\n",
       "      <td>{\"PerfData\":[{\"timestamp\":\"2022-09-14T20:00:03...</td>\n",
       "    </tr>\n",
       "    <tr>\n",
       "      <th>47c1ad91-8d88-4956-9e49-7893b4bc3074</th>\n",
       "      <td>PerfData</td>\n",
       "      <td>{\"PerfData\": [{\"B.STATE.CHRG\": 100, \"resource\"...</td>\n",
       "    </tr>\n",
       "    <tr>\n",
       "      <th>47c1ad91-8d88-4956-9e49-7893b4bc3074</th>\n",
       "      <td>PerfData</td>\n",
       "      <td>{\"PerfData\": [{\"B.STATE.ETMP\": 29, \"resource\":...</td>\n",
       "    </tr>\n",
       "    <tr>\n",
       "      <th>47c1ad91-8d88-4956-9e49-7893b4bc3074</th>\n",
       "      <td>PerfData</td>\n",
       "      <td>{\"PerfData\": []}</td>\n",
       "    </tr>\n",
       "    <tr>\n",
       "      <th>...</th>\n",
       "      <td>...</td>\n",
       "      <td>...</td>\n",
       "    </tr>\n",
       "    <tr>\n",
       "      <th>f78db54c-f95e-4dcd-8369-a3d00f235886</th>\n",
       "      <td>PerfData</td>\n",
       "      <td>{\"PerfData\": [{\"P.CPU.USR\": 2.05, \"resource\": ...</td>\n",
       "    </tr>\n",
       "    <tr>\n",
       "      <th>e215c277-19b3-4f14-9182-931e8bbcbb0e</th>\n",
       "      <td>PerfData</td>\n",
       "      <td>{\"PerfData\": [{\"B.STATE.CHRG\": 100, \"resource\"...</td>\n",
       "    </tr>\n",
       "    <tr>\n",
       "      <th>e215c277-19b3-4f14-9182-931e8bbcbb0e</th>\n",
       "      <td>PerfData</td>\n",
       "      <td>{\"PerfData\": [{\"N.IO.PRCV.T\": 192343, \"resourc...</td>\n",
       "    </tr>\n",
       "    <tr>\n",
       "      <th>e215c277-19b3-4f14-9182-931e8bbcbb0e</th>\n",
       "      <td>PerfData</td>\n",
       "      <td>{\"PerfData\": [{\"S.VMEM.PAGF\": 174307, \"timesta...</td>\n",
       "    </tr>\n",
       "    <tr>\n",
       "      <th>e215c277-19b3-4f14-9182-931e8bbcbb0e</th>\n",
       "      <td>PerfData</td>\n",
       "      <td>{\"PerfData\": [{\"S.PROC.R\": 0, \"timestamp\": \"20...</td>\n",
       "    </tr>\n",
       "  </tbody>\n",
       "</table>\n",
       "<p>4129 rows × 2 columns</p>\n",
       "</div>"
      ],
      "text/plain": [
       "                                     eventCategory  \\\n",
       "sourceUUID                                           \n",
       "f78db54c-f95e-4dcd-8369-a3d00f235886      PerfData   \n",
       "82866ad5-6854-4896-8328-1772714c61e9      PerfData   \n",
       "47c1ad91-8d88-4956-9e49-7893b4bc3074      PerfData   \n",
       "47c1ad91-8d88-4956-9e49-7893b4bc3074      PerfData   \n",
       "47c1ad91-8d88-4956-9e49-7893b4bc3074      PerfData   \n",
       "...                                            ...   \n",
       "f78db54c-f95e-4dcd-8369-a3d00f235886      PerfData   \n",
       "e215c277-19b3-4f14-9182-931e8bbcbb0e      PerfData   \n",
       "e215c277-19b3-4f14-9182-931e8bbcbb0e      PerfData   \n",
       "e215c277-19b3-4f14-9182-931e8bbcbb0e      PerfData   \n",
       "e215c277-19b3-4f14-9182-931e8bbcbb0e      PerfData   \n",
       "\n",
       "                                                                            description  \n",
       "sourceUUID                                                                               \n",
       "f78db54c-f95e-4dcd-8369-a3d00f235886  {\"PerfData\": [{\"P.CPU.USR\": 2.6, \"resource\": \"...  \n",
       "82866ad5-6854-4896-8328-1772714c61e9  {\"PerfData\":[{\"timestamp\":\"2022-09-14T20:00:03...  \n",
       "47c1ad91-8d88-4956-9e49-7893b4bc3074  {\"PerfData\": [{\"B.STATE.CHRG\": 100, \"resource\"...  \n",
       "47c1ad91-8d88-4956-9e49-7893b4bc3074  {\"PerfData\": [{\"B.STATE.ETMP\": 29, \"resource\":...  \n",
       "47c1ad91-8d88-4956-9e49-7893b4bc3074                                   {\"PerfData\": []}  \n",
       "...                                                                                 ...  \n",
       "f78db54c-f95e-4dcd-8369-a3d00f235886  {\"PerfData\": [{\"P.CPU.USR\": 2.05, \"resource\": ...  \n",
       "e215c277-19b3-4f14-9182-931e8bbcbb0e  {\"PerfData\": [{\"B.STATE.CHRG\": 100, \"resource\"...  \n",
       "e215c277-19b3-4f14-9182-931e8bbcbb0e  {\"PerfData\": [{\"N.IO.PRCV.T\": 192343, \"resourc...  \n",
       "e215c277-19b3-4f14-9182-931e8bbcbb0e  {\"PerfData\": [{\"S.VMEM.PAGF\": 174307, \"timesta...  \n",
       "e215c277-19b3-4f14-9182-931e8bbcbb0e  {\"PerfData\": [{\"S.PROC.R\": 0, \"timestamp\": \"20...  \n",
       "\n",
       "[4129 rows x 2 columns]"
      ]
     },
     "execution_count": 4,
     "metadata": {},
     "output_type": "execute_result"
    }
   ],
   "source": [
    "perfData = selected_df[selected_df['eventCategory'] == 'PerfData' ]\n",
    "perfData"
   ]
  },
  {
   "cell_type": "code",
   "execution_count": 5,
   "id": "5699729f-ee8f-415b-bb89-b8a28d3db150",
   "metadata": {},
   "outputs": [
    {
     "name": "stdout",
     "output_type": "stream",
     "text": [
      "f78db54c-f95e-4dcd-8369-a3d00f235886\n",
      "47c1ad91-8d88-4956-9e49-7893b4bc3074\n",
      "e215c277-19b3-4f14-9182-931e8bbcbb0e\n",
      "89b1acae-9112-4a14-bcbd-acde9754db96\n"
     ]
    }
   ],
   "source": [
    "#find voltage for battery\n",
    "dic_v = {}\n",
    "for index, row in perfData.iterrows():\n",
    "\n",
    "    #print(index)\n",
    "    description = row['description']\n",
    "    #print(description)\n",
    "    #print(index)\n",
    "    if description != None:\n",
    "        json_convert = pd.read_json(StringIO(description))\n",
    "        voltage_list = []\n",
    "        for data in json_convert['PerfData']:\n",
    "    \n",
    "            #print(data)\n",
    "            if 'B.STATE.V' in data:\n",
    "                voltage_list.append(data)\n",
    "\n",
    "        if len(voltage_list) != 0:\n",
    "            if index in dic_v:\n",
    "                temp = dic_v[index]\n",
    "                combine = temp + voltage_list\n",
    "                dic_v[index] = combine\n",
    "            else:\n",
    "                dic_v[index] = voltage_list\n",
    "\n",
    "for v in dic_v:\n",
    "    print(v)"
   ]
  },
  {
   "cell_type": "code",
   "execution_count": 6,
   "id": "427208d9-6d44-4b55-800c-c766acd88368",
   "metadata": {},
   "outputs": [
    {
     "data": {
      "text/html": [
       "<div>\n",
       "<style scoped>\n",
       "    .dataframe tbody tr th:only-of-type {\n",
       "        vertical-align: middle;\n",
       "    }\n",
       "\n",
       "    .dataframe tbody tr th {\n",
       "        vertical-align: top;\n",
       "    }\n",
       "\n",
       "    .dataframe thead th {\n",
       "        text-align: right;\n",
       "    }\n",
       "</style>\n",
       "<table border=\"1\" class=\"dataframe\">\n",
       "  <thead>\n",
       "    <tr style=\"text-align: right;\">\n",
       "      <th></th>\n",
       "      <th>B.STATE.V</th>\n",
       "      <th>resource</th>\n",
       "      <th>timestamp</th>\n",
       "    </tr>\n",
       "  </thead>\n",
       "  <tbody>\n",
       "    <tr>\n",
       "      <th>0</th>\n",
       "      <td>4058</td>\n",
       "      <td>battery:HUB</td>\n",
       "      <td>2022-09-14T19:59:53.000-0400</td>\n",
       "    </tr>\n",
       "    <tr>\n",
       "      <th>1</th>\n",
       "      <td>4058</td>\n",
       "      <td>battery:HUB</td>\n",
       "      <td>2022-09-14T19:59:54.000-0400</td>\n",
       "    </tr>\n",
       "    <tr>\n",
       "      <th>2</th>\n",
       "      <td>4058</td>\n",
       "      <td>battery:HUB</td>\n",
       "      <td>2022-09-14T19:59:57.000-0400</td>\n",
       "    </tr>\n",
       "    <tr>\n",
       "      <th>3</th>\n",
       "      <td>4058</td>\n",
       "      <td>battery:HUB</td>\n",
       "      <td>2022-09-14T19:59:58.000-0400</td>\n",
       "    </tr>\n",
       "    <tr>\n",
       "      <th>4</th>\n",
       "      <td>4058</td>\n",
       "      <td>battery:HUB</td>\n",
       "      <td>2022-09-14T19:59:59.000-0400</td>\n",
       "    </tr>\n",
       "    <tr>\n",
       "      <th>...</th>\n",
       "      <td>...</td>\n",
       "      <td>...</td>\n",
       "      <td>...</td>\n",
       "    </tr>\n",
       "    <tr>\n",
       "      <th>1526</th>\n",
       "      <td>4057</td>\n",
       "      <td>battery:HUB</td>\n",
       "      <td>2022-09-14T20:59:38.000-0400</td>\n",
       "    </tr>\n",
       "    <tr>\n",
       "      <th>1527</th>\n",
       "      <td>4057</td>\n",
       "      <td>battery:HUB</td>\n",
       "      <td>2022-09-14T20:59:39.000-0400</td>\n",
       "    </tr>\n",
       "    <tr>\n",
       "      <th>1528</th>\n",
       "      <td>4057</td>\n",
       "      <td>battery:HUB</td>\n",
       "      <td>2022-09-14T20:59:48.000-0400</td>\n",
       "    </tr>\n",
       "    <tr>\n",
       "      <th>1529</th>\n",
       "      <td>4057</td>\n",
       "      <td>battery:HUB</td>\n",
       "      <td>2022-09-14T20:59:49.000-0400</td>\n",
       "    </tr>\n",
       "    <tr>\n",
       "      <th>1530</th>\n",
       "      <td>4057</td>\n",
       "      <td>battery:HUB</td>\n",
       "      <td>2022-09-14T20:59:52.000-0400</td>\n",
       "    </tr>\n",
       "  </tbody>\n",
       "</table>\n",
       "<p>1531 rows × 3 columns</p>\n",
       "</div>"
      ],
      "text/plain": [
       "      B.STATE.V     resource                     timestamp\n",
       "0          4058  battery:HUB  2022-09-14T19:59:53.000-0400\n",
       "1          4058  battery:HUB  2022-09-14T19:59:54.000-0400\n",
       "2          4058  battery:HUB  2022-09-14T19:59:57.000-0400\n",
       "3          4058  battery:HUB  2022-09-14T19:59:58.000-0400\n",
       "4          4058  battery:HUB  2022-09-14T19:59:59.000-0400\n",
       "...         ...          ...                           ...\n",
       "1526       4057  battery:HUB  2022-09-14T20:59:38.000-0400\n",
       "1527       4057  battery:HUB  2022-09-14T20:59:39.000-0400\n",
       "1528       4057  battery:HUB  2022-09-14T20:59:48.000-0400\n",
       "1529       4057  battery:HUB  2022-09-14T20:59:49.000-0400\n",
       "1530       4057  battery:HUB  2022-09-14T20:59:52.000-0400\n",
       "\n",
       "[1531 rows x 3 columns]"
      ]
     },
     "execution_count": 6,
     "metadata": {},
     "output_type": "execute_result"
    }
   ],
   "source": [
    "battery_f87 = dic_v[\"f78db54c-f95e-4dcd-8369-a3d00f235886\"]\n",
    "type(battery_f87)\n",
    "#for b in battery_f87:\n",
    "   # print(b)\n",
    "    \n",
    "df_f87 = pd.DataFrame(battery_f87)\n",
    "df_f87\n",
    "#battery_f87"
   ]
  },
  {
   "cell_type": "code",
   "execution_count": 7,
   "id": "82f79246-c175-42b9-9e5d-42131a9916a1",
   "metadata": {},
   "outputs": [
    {
     "data": {
      "text/html": [
       "<div>\n",
       "<style scoped>\n",
       "    .dataframe tbody tr th:only-of-type {\n",
       "        vertical-align: middle;\n",
       "    }\n",
       "\n",
       "    .dataframe tbody tr th {\n",
       "        vertical-align: top;\n",
       "    }\n",
       "\n",
       "    .dataframe thead th {\n",
       "        text-align: right;\n",
       "    }\n",
       "</style>\n",
       "<table border=\"1\" class=\"dataframe\">\n",
       "  <thead>\n",
       "    <tr style=\"text-align: right;\">\n",
       "      <th></th>\n",
       "      <th>B.STATE.V</th>\n",
       "      <th>resource</th>\n",
       "      <th>timestamp</th>\n",
       "    </tr>\n",
       "  </thead>\n",
       "  <tbody>\n",
       "    <tr>\n",
       "      <th>0</th>\n",
       "      <td>4058</td>\n",
       "      <td>battery:HUB</td>\n",
       "      <td>2022-09-14 19:59:53-04:00</td>\n",
       "    </tr>\n",
       "    <tr>\n",
       "      <th>1</th>\n",
       "      <td>4058</td>\n",
       "      <td>battery:HUB</td>\n",
       "      <td>2022-09-14 19:59:54-04:00</td>\n",
       "    </tr>\n",
       "    <tr>\n",
       "      <th>2</th>\n",
       "      <td>4058</td>\n",
       "      <td>battery:HUB</td>\n",
       "      <td>2022-09-14 19:59:57-04:00</td>\n",
       "    </tr>\n",
       "    <tr>\n",
       "      <th>3</th>\n",
       "      <td>4058</td>\n",
       "      <td>battery:HUB</td>\n",
       "      <td>2022-09-14 19:59:58-04:00</td>\n",
       "    </tr>\n",
       "    <tr>\n",
       "      <th>4</th>\n",
       "      <td>4058</td>\n",
       "      <td>battery:HUB</td>\n",
       "      <td>2022-09-14 19:59:59-04:00</td>\n",
       "    </tr>\n",
       "    <tr>\n",
       "      <th>...</th>\n",
       "      <td>...</td>\n",
       "      <td>...</td>\n",
       "      <td>...</td>\n",
       "    </tr>\n",
       "    <tr>\n",
       "      <th>1526</th>\n",
       "      <td>4057</td>\n",
       "      <td>battery:HUB</td>\n",
       "      <td>2022-09-14 20:59:38-04:00</td>\n",
       "    </tr>\n",
       "    <tr>\n",
       "      <th>1527</th>\n",
       "      <td>4057</td>\n",
       "      <td>battery:HUB</td>\n",
       "      <td>2022-09-14 20:59:39-04:00</td>\n",
       "    </tr>\n",
       "    <tr>\n",
       "      <th>1528</th>\n",
       "      <td>4057</td>\n",
       "      <td>battery:HUB</td>\n",
       "      <td>2022-09-14 20:59:48-04:00</td>\n",
       "    </tr>\n",
       "    <tr>\n",
       "      <th>1529</th>\n",
       "      <td>4057</td>\n",
       "      <td>battery:HUB</td>\n",
       "      <td>2022-09-14 20:59:49-04:00</td>\n",
       "    </tr>\n",
       "    <tr>\n",
       "      <th>1530</th>\n",
       "      <td>4057</td>\n",
       "      <td>battery:HUB</td>\n",
       "      <td>2022-09-14 20:59:52-04:00</td>\n",
       "    </tr>\n",
       "  </tbody>\n",
       "</table>\n",
       "<p>1413 rows × 3 columns</p>\n",
       "</div>"
      ],
      "text/plain": [
       "      B.STATE.V     resource                 timestamp\n",
       "0          4058  battery:HUB 2022-09-14 19:59:53-04:00\n",
       "1          4058  battery:HUB 2022-09-14 19:59:54-04:00\n",
       "2          4058  battery:HUB 2022-09-14 19:59:57-04:00\n",
       "3          4058  battery:HUB 2022-09-14 19:59:58-04:00\n",
       "4          4058  battery:HUB 2022-09-14 19:59:59-04:00\n",
       "...         ...          ...                       ...\n",
       "1526       4057  battery:HUB 2022-09-14 20:59:38-04:00\n",
       "1527       4057  battery:HUB 2022-09-14 20:59:39-04:00\n",
       "1528       4057  battery:HUB 2022-09-14 20:59:48-04:00\n",
       "1529       4057  battery:HUB 2022-09-14 20:59:49-04:00\n",
       "1530       4057  battery:HUB 2022-09-14 20:59:52-04:00\n",
       "\n",
       "[1413 rows x 3 columns]"
      ]
     },
     "execution_count": 7,
     "metadata": {},
     "output_type": "execute_result"
    }
   ],
   "source": [
    "#type(df_f87.iloc[0,2])\n",
    "df_f87['timestamp'] = pd.to_datetime(df_f87['timestamp'], format='%Y-%m-%dT%H:%M:%S.%f%z')\n",
    "#df_f87\n",
    "\n",
    "hub_df_f87 = df_f87[df_f87['resource'] == 'battery:HUB' ]\n",
    "hub_df_f87"
   ]
  },
  {
   "cell_type": "code",
   "execution_count": 8,
   "id": "c56911b6-e1a2-4c00-9167-f9caa96b10b7",
   "metadata": {},
   "outputs": [
    {
     "data": {
      "text/plain": [
       "1413"
      ]
     },
     "execution_count": 8,
     "metadata": {},
     "output_type": "execute_result"
    }
   ],
   "source": [
    "# voltage that > 3200\n",
    "(hub_df_f87['B.STATE.V'] > 3200).sum()"
   ]
  },
  {
   "cell_type": "code",
   "execution_count": 9,
   "id": "62a5051a-2142-426b-af70-8f033b16dfac",
   "metadata": {},
   "outputs": [
    {
     "data": {
      "text/plain": [
       "0"
      ]
     },
     "execution_count": 9,
     "metadata": {},
     "output_type": "execute_result"
    }
   ],
   "source": [
    "# voltage that <2850 or >4250 (bad)\n",
    "((hub_df_f87['B.STATE.V'] < 2850 ) & (hub_df_f87['B.STATE.V']  > 4250)).sum()"
   ]
  },
  {
   "cell_type": "code",
   "execution_count": 10,
   "id": "2fa29690-4f57-45a3-ab87-1a6fb6253974",
   "metadata": {},
   "outputs": [
    {
     "data": {
      "text/plain": [
       "[<matplotlib.lines.Line2D at 0x7fbd3b5a17b0>]"
      ]
     },
     "execution_count": 10,
     "metadata": {},
     "output_type": "execute_result"
    },
    {
     "data": {
      "image/png": "[encoded data removed]",
      "text/plain": [
       "<Figure size 640x480 with 1 Axes>"
      ]
     },
     "metadata": {},
     "output_type": "display_data"
    }
   ],
   "source": [
    "plt.plot(hub_df_f87['timestamp'], hub_df_f87['B.STATE.V'])\n"
   ]
  },
  {
   "cell_type": "code",
   "execution_count": 12,
   "id": "c49489fd-cfd7-4f79-a927-f5f8e091c87d",
   "metadata": {},
   "outputs": [
    {
     "name": "stdout",
     "output_type": "stream",
     "text": [
      "f78db54c-f95e-4dcd-8369-a3d00f235886\n",
      "47c1ad91-8d88-4956-9e49-7893b4bc3074\n",
      "e215c277-19b3-4f14-9182-931e8bbcbb0e\n",
      "89b1acae-9112-4a14-bcbd-acde9754db96\n"
     ]
    },
    {
     "data": {
      "text/plain": [
       "{'f78db54c-f95e-4dcd-8369-a3d00f235886': [1413,\n",
       "  0,\n",
       "  [<matplotlib.lines.Line2D at 0x7fbd37cd5c30>]],\n",
       " '47c1ad91-8d88-4956-9e49-7893b4bc3074': [1144,\n",
       "  0,\n",
       "  [<matplotlib.lines.Line2D at 0x7fbd3b8e12a0>]],\n",
       " 'e215c277-19b3-4f14-9182-931e8bbcbb0e': [1306,\n",
       "  0,\n",
       "  [<matplotlib.lines.Line2D at 0x7fbd37cedf90>]],\n",
       " '89b1acae-9112-4a14-bcbd-acde9754db96': [28,\n",
       "  0,\n",
       "  [<matplotlib.lines.Line2D at 0x7fbd37cce6b0>]]}"
      ]
     },
     "execution_count": 12,
     "metadata": {},
     "output_type": "execute_result"
    },
    {
     "data": {
      "image/png": "[encoded data removed]",
      "text/plain": [
       "<Figure size 640x480 with 1 Axes>"
      ]
     },
     "metadata": {},
     "output_type": "display_data"
    }
   ],
   "source": [
    "result = {}\n",
    "for b in dic_v:\n",
    "\n",
    "    print(b)\n",
    "    battery = dic_v[b]\n",
    "    df_b = pd.DataFrame(battery)\n",
    "    df_b['timestamp'] = pd.to_datetime(df_b['timestamp'], format='%Y-%m-%dT%H:%M:%S.%f%z')\n",
    "    hub_df_b = df_b[df_b['resource'] == 'battery:HUB' ]\n",
    "    r = []\n",
    "    r.append(str((hub_df_b['B.STATE.V'] > 3200).sum())+ \"/\" + str( hub_df_b['B.STATE.V'].sum()))\n",
    "    r.append(((hub_df_b['B.STATE.V'] < 2850 ) & (hub_df_b['B.STATE.V']  > 4250)).sum())\n",
    "    plot = plt.plot(hub_df_b['timestamp'], hub_df_b['B.STATE.V'])\n",
    "    r.append(plot)\n",
    "\n",
    "    result[b] = r\n",
    "\n",
    "result"
   ]
  },
  {
   "cell_type": "code",
   "execution_count": 23,
   "id": "e58d2cec-408d-42e8-ad68-6fb5c11b5159",
   "metadata": {},
   "outputs": [
    {
     "data": {
      "text/plain": [
       "{'f78db54c-f95e-4dcd-8369-a3d00f235886': ['59/226465',\n",
       "  0,\n",
       "  [<matplotlib.lines.Line2D at 0x7fbd3774e2c0>]],\n",
       " '47c1ad91-8d88-4956-9e49-7893b4bc3074': ['0/0',\n",
       "  0,\n",
       "  [<matplotlib.lines.Line2D at 0x7fbd3774c100>]],\n",
       " 'e215c277-19b3-4f14-9182-931e8bbcbb0e': ['0/0',\n",
       "  0,\n",
       "  [<matplotlib.lines.Line2D at 0x7fbd37776bc0>]],\n",
       " '89b1acae-9112-4a14-bcbd-acde9754db96': ['0/0',\n",
       "  0,\n",
       "  [<matplotlib.lines.Line2D at 0x7fbd377766b0>]]}"
      ]
     },
     "execution_count": 23,
     "metadata": {},
     "output_type": "execute_result"
    },
    {
     "data": {
      "image/png": "[encoded data removed]",
      "text/plain": [
       "<Figure size 640x480 with 1 Axes>"
      ]
     },
     "metadata": {},
     "output_type": "display_data"
    }
   ],
   "source": [
    "#SPO2SENSOR\n",
    "result = {}\n",
    "for b in dic_v:\n",
    "\n",
    "    #print(b)\n",
    "    battery = dic_v[b]\n",
    "    df_b = pd.DataFrame(battery)\n",
    "    df_b['timestamp'] = pd.to_datetime(df_b['timestamp'], format='%Y-%m-%dT%H:%M:%S.%f%z')\n",
    "    hub_df_b = df_b[df_b['resource'] == 'battery:SPO2SENSOR' ]\n",
    "    r = []\n",
    "    r.append(str((hub_df_b['B.STATE.V'] > 3200).sum())+ \"/\" + str( hub_df_b['B.STATE.V'].sum()))\n",
    "    r.append(((hub_df_b['B.STATE.V'] < 2850 ) & (hub_df_b['B.STATE.V']  > 4250)).sum())\n",
    "    plot = plt.plot(hub_df_b['timestamp'], hub_df_b['B.STATE.V'])\n",
    "    r.append(plot)\n",
    "\n",
    "    result[b] = r\n",
    "    \n",
    "\n",
    "result"
   ]
  },
  {
   "cell_type": "code",
   "execution_count": 22,
   "id": "0c03d01f-38ad-4e41-9c03-82897e868b9f",
   "metadata": {},
   "outputs": [
    {
     "data": {
      "text/plain": [
       "{'f78db54c-f95e-4dcd-8369-a3d00f235886': ['59/226527',\n",
       "  0,\n",
       "  [<matplotlib.lines.Line2D at 0x7fbd378dc460>]],\n",
       " '47c1ad91-8d88-4956-9e49-7893b4bc3074': ['0/0',\n",
       "  0,\n",
       "  [<matplotlib.lines.Line2D at 0x7fbd378c3fd0>]],\n",
       " 'e215c277-19b3-4f14-9182-931e8bbcbb0e': ['0/0',\n",
       "  0,\n",
       "  [<matplotlib.lines.Line2D at 0x7fbd37708e50>]],\n",
       " '89b1acae-9112-4a14-bcbd-acde9754db96': ['0/0',\n",
       "  0,\n",
       "  [<matplotlib.lines.Line2D at 0x7fbd37708940>]]}"
      ]
     },
     "execution_count": 22,
     "metadata": {},
     "output_type": "execute_result"
    },
    {
     "data": {
      "image/png": "[encoded data removed]",
      "text/plain": [
       "<Figure size 640x480 with 1 Axes>"
      ]
     },
     "metadata": {},
     "output_type": "display_data"
    }
   ],
   "source": [
    "#resp\n",
    "result = {}\n",
    "for b in dic_v:\n",
    "\n",
    "    #print(b)\n",
    "    battery = dic_v[b]\n",
    "    df_b = pd.DataFrame(battery)\n",
    "    df_b['timestamp'] = pd.to_datetime(df_b['timestamp'], format='%Y-%m-%dT%H:%M:%S.%f%z')\n",
    "    hub_df_b = df_b[df_b['resource'] == 'battery:RESPSENSOR' ]\n",
    "    r = []\n",
    "    r.append(str((hub_df_b['B.STATE.V'] > 3200).sum())+ \"/\" + str( hub_df_b['B.STATE.V'].sum()))\n",
    "    r.append(((hub_df_b['B.STATE.V'] < 2850 ) & (hub_df_b['B.STATE.V']  > 4250)).sum())\n",
    "    plot = plt.plot(hub_df_b['timestamp'], hub_df_b['B.STATE.V'])\n",
    "    r.append(plot)\n",
    "\n",
    "    result[b] = r\n",
    "    \n",
    "\n",
    "result"
   ]
  }
 ],
 "metadata": {
  "kernelspec": {
   "display_name": "Python 3 (ipykernel)",
   "language": "python",
   "name": "python3"
  },
  "language_info": {
   "codemirror_mode": {
    "name": "ipython",
    "version": 3
   },
   "file_extension": ".py",
   "mimetype": "text/x-python",
   "name": "python",
   "nbconvert_exporter": "python",
   "pygments_lexer": "ipython3",
   "version": "3.10.12"
  }
 },
 "nbformat": 4,
 "nbformat_minor": 5
}
